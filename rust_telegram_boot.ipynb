{
 "cells": [
  {
   "cell_type": "markdown",
   "metadata": {},
   "source": [
    "# [FROM HERE => rust_telegram_bot](https://dev.to/steadylearner/how-to-make-a-telegram-bot-with-rust-teloxide-m60)"
   ]
  },
  {
   "cell_type": "markdown",
   "metadata": {},
   "source": [
    "## checked list\n",
    "- project init\n",
    "- install add one cargo lib \n"
   ]
  },
  {
   "cell_type": "markdown",
   "metadata": {},
   "source": [
    "## project init\n",
    "\n",
    "```\n",
    "mkdir rust_telegram_bot && \\\n",
    "cd $_ && \\\n",
    "cargo install cargo-edit && \\\n",
    "cargo install cargo-watch && \\\n",
    "cargo init . && \\\n",
    "cargo fmt --verbose && \\\n",
    "cargo clippy --verbose \n",
    "```"
   ]
  },
  {
   "cell_type": "markdown",
   "metadata": {},
   "source": [
    "## install add one cargo lib\n",
    "\n",
    "```\n",
    "cargo install cargo-edit && \\\n",
    "cargo install cargo-watch\n",
    "```"
   ]
  },
  {
   "cell_type": "markdown",
   "metadata": {},
   "source": [
    "## Set up Telegram bot with BotFather\n"
   ]
  },
  {
   "cell_type": "code",
   "execution_count": null,
   "metadata": {
    "vscode": {
     "languageId": "shellscript"
    }
   },
   "outputs": [],
   "source": [
    "# inside your phone telegramm app\n"
   ]
  }
 ],
 "metadata": {
  "kernelspec": {
   "display_name": "Bash",
   "language": "bash",
   "name": "bash"
  },
  "language_info": {
   "codemirror_mode": "shell",
   "file_extension": ".sh",
   "mimetype": "text/x-sh",
   "name": "bash"
  }
 },
 "nbformat": 4,
 "nbformat_minor": 2
}
